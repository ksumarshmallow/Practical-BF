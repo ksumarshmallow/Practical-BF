{
 "cells": [
  {
   "cell_type": "code",
   "execution_count": 2,
   "metadata": {},
   "outputs": [],
   "source": [
    "import pandas as pd\n",
    "import numpy as np\n",
    "import matplotlib.pyplot as plt\n",
    "import seaborn as sns\n",
    "sns.set_style(\"darkgrid\", {\"axes.facecolor\": \".9\"})"
   ]
  },
  {
   "cell_type": "code",
   "execution_count": 12,
   "metadata": {},
   "outputs": [
    {
     "data": {
      "text/html": [
       "<div>\n",
       "<style scoped>\n",
       "    .dataframe tbody tr th:only-of-type {\n",
       "        vertical-align: middle;\n",
       "    }\n",
       "\n",
       "    .dataframe tbody tr th {\n",
       "        vertical-align: top;\n",
       "    }\n",
       "\n",
       "    .dataframe thead th {\n",
       "        text-align: right;\n",
       "    }\n",
       "</style>\n",
       "<table border=\"1\" class=\"dataframe\">\n",
       "  <thead>\n",
       "    <tr style=\"text-align: right;\">\n",
       "      <th></th>\n",
       "      <th>MOTIF_INDEX</th>\n",
       "      <th>MOTIF_SOURCE</th>\n",
       "      <th>MOTIF_ID</th>\n",
       "      <th>ALT_ID</th>\n",
       "      <th>CONSENSUS</th>\n",
       "      <th>WIDTH</th>\n",
       "      <th>SITES</th>\n",
       "      <th>E-VALUE</th>\n",
       "      <th>E-VALUE_SOURCE</th>\n",
       "      <th>MOST_SIMILAR_MOTIF_SOURCE</th>\n",
       "      <th>MOST_SIMILAR_MOTIF</th>\n",
       "      <th>URL</th>\n",
       "    </tr>\n",
       "  </thead>\n",
       "  <tbody>\n",
       "    <tr>\n",
       "      <th>0</th>\n",
       "      <td>1</td>\n",
       "      <td>MEME</td>\n",
       "      <td>SHNVCAGCTGYYVYB</td>\n",
       "      <td>MEME-1</td>\n",
       "      <td>SHNVCAGCTGYYVYB</td>\n",
       "      <td>15.0</td>\n",
       "      <td>200.0</td>\n",
       "      <td>7.600000e-257</td>\n",
       "      <td>MEME</td>\n",
       "      <td>db/motif_databases/MOUSE/uniprobe_mouse.meme</td>\n",
       "      <td>UP00099_1 (Ascl2_primary)</td>\n",
       "      <td>http://thebrain.bwh.harvard.edu/uniprobe/detai...</td>\n",
       "    </tr>\n",
       "    <tr>\n",
       "      <th>1</th>\n",
       "      <td>2</td>\n",
       "      <td>MEME</td>\n",
       "      <td>RRCAGCTG</td>\n",
       "      <td>MEME-2</td>\n",
       "      <td>RRCAGCTG</td>\n",
       "      <td>8.0</td>\n",
       "      <td>105.0</td>\n",
       "      <td>9.200000e-47</td>\n",
       "      <td>MEME</td>\n",
       "      <td>db/motif_databases/JASPAR/JASPAR2022_CORE_vert...</td>\n",
       "      <td>MA0796.1 (TGIF1)</td>\n",
       "      <td>http://jaspar2022.genereg.net/matrix/MA0796.1</td>\n",
       "    </tr>\n",
       "  </tbody>\n",
       "</table>\n",
       "</div>"
      ],
      "text/plain": [
       "  MOTIF_INDEX MOTIF_SOURCE         MOTIF_ID  ALT_ID        CONSENSUS  WIDTH  \\\n",
       "0           1         MEME  SHNVCAGCTGYYVYB  MEME-1  SHNVCAGCTGYYVYB   15.0   \n",
       "1           2         MEME         RRCAGCTG  MEME-2         RRCAGCTG    8.0   \n",
       "\n",
       "   SITES        E-VALUE E-VALUE_SOURCE  \\\n",
       "0  200.0  7.600000e-257           MEME   \n",
       "1  105.0   9.200000e-47           MEME   \n",
       "\n",
       "                           MOST_SIMILAR_MOTIF_SOURCE  \\\n",
       "0       db/motif_databases/MOUSE/uniprobe_mouse.meme   \n",
       "1  db/motif_databases/JASPAR/JASPAR2022_CORE_vert...   \n",
       "\n",
       "          MOST_SIMILAR_MOTIF  \\\n",
       "0  UP00099_1 (Ascl2_primary)   \n",
       "1           MA0796.1 (TGIF1)   \n",
       "\n",
       "                                                 URL  \n",
       "0  http://thebrain.bwh.harvard.edu/uniprobe/detai...  \n",
       "1      http://jaspar2022.genereg.net/matrix/MA0796.1  "
      ]
     },
     "execution_count": 12,
     "metadata": {},
     "output_type": "execute_result"
    }
   ],
   "source": [
    "data = pd.read_csv(\"summary_meme_chip.tsv\", sep='\\t').iloc[:89]\n",
    "data.head(2)"
   ]
  },
  {
   "cell_type": "code",
   "execution_count": 13,
   "metadata": {},
   "outputs": [
    {
     "data": {
      "text/plain": [
       "count     8.900000e+01\n",
       "mean      1.604619e-03\n",
       "std       5.262479e-03\n",
       "min      7.600000e-257\n",
       "25%       3.700000e-23\n",
       "50%       5.100000e-11\n",
       "75%       1.300000e-04\n",
       "max       3.400000e-02\n",
       "Name: E-VALUE, dtype: float64"
      ]
     },
     "execution_count": 13,
     "metadata": {},
     "output_type": "execute_result"
    }
   ],
   "source": [
    "data['E-VALUE'].describe()"
   ]
  },
  {
   "cell_type": "code",
   "execution_count": 20,
   "metadata": {},
   "outputs": [
    {
     "data": {
      "text/plain": [
       "count    8.800000e+01\n",
       "mean     1.622853e-03\n",
       "std      5.289808e-03\n",
       "min      9.200000e-47\n",
       "25%      3.017500e-22\n",
       "50%      6.400000e-11\n",
       "75%      1.350000e-04\n",
       "max      3.400000e-02\n",
       "Name: E-VALUE, dtype: float64"
      ]
     },
     "execution_count": 20,
     "metadata": {},
     "output_type": "execute_result"
    }
   ],
   "source": [
    "(data['E-VALUE'] - data['E-VALUE'].min()).iloc[1:].describe()"
   ]
  },
  {
   "cell_type": "code",
   "execution_count": 29,
   "metadata": {},
   "outputs": [
    {
     "data": {
      "text/plain": [
       "Text(0.5, 1.0, 'Распределение длин мотивов')"
      ]
     },
     "execution_count": 29,
     "metadata": {},
     "output_type": "execute_result"
    },
    {
     "data": {
      "image/png": "[encoded data removed]",
      "text/plain": [
       "<Figure size 640x480 with 1 Axes>"
      ]
     },
     "metadata": {},
     "output_type": "display_data"
    }
   ],
   "source": [
    "sns.histplot(data['CONSENSUS'].apply(len), bins=10, color='skyblue')\n",
    "plt.xlabel('Motif Length')\n",
    "plt.ylabel('Count')\n",
    "plt.title('Распределение длин мотивов')"
   ]
  },
  {
   "cell_type": "code",
   "execution_count": 33,
   "metadata": {},
   "outputs": [
    {
     "data": {
      "text/plain": [
       "0      SHNVCAGCTGYYVYB\n",
       "1             RRCAGCTG\n",
       "2           VCAGCTGCTS\n",
       "3         NNACAGCTGTNN\n",
       "4           ARCAGCTGCY\n",
       "            ...       \n",
       "84    NNWGCAACAGGTGDNN\n",
       "85        NRGAACAGCCNN\n",
       "86        TGACAGSTGTCA\n",
       "87        TGACAGSTGTCA\n",
       "88    NDWKCAACAGGTGKNN\n",
       "Name: CONSENSUS, Length: 89, dtype: object"
      ]
     },
     "execution_count": 33,
     "metadata": {},
     "output_type": "execute_result"
    }
   ],
   "source": [
    "data['CONSENSUS']"
   ]
  },
  {
   "cell_type": "code",
   "execution_count": null,
   "metadata": {},
   "outputs": [],
   "source": []
  }
 ],
 "metadata": {
  "kernelspec": {
   "display_name": "practical_bf",
   "language": "python",
   "name": "python3"
  },
  "language_info": {
   "codemirror_mode": {
    "name": "ipython",
    "version": 3
   },
   "file_extension": ".py",
   "mimetype": "text/x-python",
   "name": "python",
   "nbconvert_exporter": "python",
   "pygments_lexer": "ipython3",
   "version": "3.12.4"
  }
 },
 "nbformat": 4,
 "nbformat_minor": 2
}
