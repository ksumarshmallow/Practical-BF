{
 "cells": [
  {
   "cell_type": "code",
   "execution_count": 1,
   "metadata": {},
   "outputs": [],
   "source": [
    "# Ячейка для мгновенного обновления модулей\n",
    "%load_ext autoreload\n",
    "%autoreload 2"
   ]
  },
  {
   "cell_type": "code",
   "execution_count": 1,
   "metadata": {},
   "outputs": [
    {
     "name": "stderr",
     "output_type": "stream",
     "text": [
      "/home/ksu_marshmallow/miniconda3/envs/practical_bf/lib/python3.12/site-packages/Bio/pairwise2.py:278: BiopythonDeprecationWarning: Bio.pairwise2 has been deprecated, and we intend to remove it in a future release of Biopython. As an alternative, please consider using Bio.Align.PairwiseAligner as a replacement, and contact the Biopython developers if you still need the Bio.pairwise2 module.\n",
      "  warnings.warn(\n"
     ]
    }
   ],
   "source": [
    "# libraries\n",
    "import random\n",
    "import pandas as pd\n",
    "from itertools import permutations\n",
    "\n",
    "from Bio import SeqIO\n",
    "\n",
    "from word_to_biocode import WordToBiocode\n",
    "\n",
    "import warnings \n",
    "warnings.simplefilter('ignore')"
   ]
  },
  {
   "cell_type": "markdown",
   "metadata": {},
   "source": [
    "## Задача 🧬\n",
    "Перевести слово (например, ФИО) в последовательность нуклеотидов (A, T, G, C)"
   ]
  },
  {
   "cell_type": "markdown",
   "metadata": {},
   "source": [
    "## Решение\n",
    "\n",
    "1. **Преобразование в двоичную систему**\n",
    "    - В русском алфавите 33 буквы. Для их кодирования требуется **6 бит** (так как $2^6=64$, что достаточно для представления всех букв алфавита).\n",
    "    - Каждую букву слова преобразуем в двоичный код длиной 6 цифр.\n",
    "\n",
    "2. **Преобразование в четверичную систему**\n",
    "    - Далее, этот двоичный код переводим в четверичную систему, где каждая цифра может быть 0, 1, 2 или 3.\n",
    "    - Для этого каждые 2 бита двоичного кода превращаем в одну цифру четверичной системы.\n",
    "    - Таким образом, *каждая буква будет представлена тремя цифрами четверичной системы*.\n",
    "\n",
    "3. **Преобразование в нуклеотидную последовательность**\n",
    "    - Каждая цифра четверичной системы (0, 1, 2, 3) кодируется нуклеотидом (например, 0 — A, 1 — C, 2 — G, 3 — T)\n",
    "    - Таким образом, каждая буква слова будет закодирована в виде последовательности из 3 нуклеотидов (триплета).\n",
    "    - **Длина закодированного слова** в нуклеотидах будет равна $3 \\times \\text{длина слова}$.\n",
    "\n",
    "4. **Преобразование в аминокислотную последовательность**\n",
    "    - Поскольку длина закодированной последовательности кратна трем, ее можно перевести в последовательность аминокислот (белок)\n"
   ]
  },
  {
   "cell_type": "markdown",
   "metadata": {},
   "source": [
    "## Вероятность встретить закодированное слово в геноме\n",
    "\n",
    "### Частота появления конкретной последовательности\n",
    "Для случайного распределения нуклеотидов вероятность встретить определенную последовательность длиной $l$:\n",
    "$$\\frac{1}{4^l} = 4^{-l},$$ \n",
    "\n",
    "так как у каждого нуклеотида есть 4 возможных варианта (A, C, G, T)\n",
    "\n",
    "Геном человека состоит из примерно $3.2 \\cdot 10^9$ нуклеотидов. Т.е. возможных позиций для начала последовательности длиной $l$:\n",
    "$3.2 \\cdot 10^9 - l + 1 \\approx 3.2 \\cdot 10^9 \\text{ н.}$\n",
    "\n",
    "Чтобы вычислить, как часто можно встретить нашу закодированную последовательность длиной $l$ в геноме, умножаем количество возможных позиций на вероятность вообще получить такую последовательность. Тогда последовательность длиной $l$ будет встречаться в человеческом геноме со следующей частотой:\n",
    "$$\\frac{3.2 \\cdot 10^9}{4^l} \\text{ н.}$$\n",
    "\n",
    "### Вероятность встретить последовательность хотя бы 1 раз\n",
    "Вероятность встретить хотя бы одно вхождение последовательности в геноме можно выразить так: \n",
    "$$P = 1 - (1 - \\frac{1}{4^l})^{3.2 \\cdot 10^9}$$"
   ]
  },
  {
   "cell_type": "markdown",
   "metadata": {},
   "source": [
    "## Реализация - перевод ФИО в ДНК и белок"
   ]
  },
  {
   "cell_type": "code",
   "execution_count": 3,
   "metadata": {},
   "outputs": [
    {
     "name": "stdout",
     "output_type": "stream",
     "text": [
      "{'A': '0', 'T': '1', 'G': '2', 'C': '3'}\n",
      "DNA: ACAAAAAGCAGGACGTTTAAAAGGATA\n",
      "PROTEIN: TKSRTFKRI\n",
      "============================================================\n",
      "{'A': '0', 'T': '1', 'C': '2', 'G': '3'}\n",
      "DNA: AGAAAAACGACCAGCTTTAAAACCATA\n",
      "PROTEIN: RKTTSFKTI\n",
      "============================================================\n",
      "{'A': '0', 'G': '1', 'T': '2', 'C': '3'}\n",
      "DNA: ACAAAAATCATTACTGGGAAAATTAGA\n",
      "PROTEIN: TKIITGKIR\n",
      "============================================================\n",
      "{'A': '0', 'G': '1', 'C': '2', 'T': '3'}\n",
      "DNA: ATAAAAACTACCATCGGGAAAACCAGA\n",
      "PROTEIN: IKTTIGKTR\n",
      "============================================================\n",
      "{'A': '0', 'C': '1', 'T': '2', 'G': '3'}\n",
      "DNA: AGAAAAATGATTAGTCCCAAAATTACA\n",
      "PROTEIN: RKMISPKIT\n",
      "============================================================\n",
      "{'A': '0', 'C': '1', 'G': '2', 'T': '3'}\n",
      "DNA: ATAAAAAGTAGGATGCCCAAAAGGACA\n",
      "PROTEIN: IKSRMPKRT\n",
      "============================================================\n",
      "{'T': '0', 'A': '1', 'G': '2', 'C': '3'}\n",
      "DNA: TCTTTTTGCTGGTCGAAATTTTGGTAT\n",
      "PROTEIN: SFCWSKFWY\n",
      "============================================================\n",
      "{'T': '0', 'A': '1', 'C': '2', 'G': '3'}\n",
      "DNA: TGTTTTTCGTCCTGCAAATTTTCCTAT\n",
      "PROTEIN: CFSSCKFSY\n",
      "============================================================\n",
      "{'T': '0', 'G': '1', 'A': '2', 'C': '3'}\n",
      "DNA: TCTTTTTACTAATCAGGGTTTTAATGT\n",
      "PROTEIN: SFY*SGF*C\n",
      "============================================================\n",
      "{'T': '0', 'G': '1', 'C': '2', 'A': '3'}\n",
      "DNA: TATTTTTCATCCTACGGGTTTTCCTGT\n",
      "PROTEIN: YFSSYGFSC\n",
      "============================================================\n",
      "{'T': '0', 'C': '1', 'A': '2', 'G': '3'}\n",
      "DNA: TGTTTTTAGTAATGACCCTTTTAATCT\n",
      "PROTEIN: CF***PF*S\n",
      "============================================================\n",
      "{'T': '0', 'C': '1', 'G': '2', 'A': '3'}\n",
      "DNA: TATTTTTGATGGTAGCCCTTTTGGTCT\n",
      "PROTEIN: YF*W*PFWS\n",
      "============================================================\n",
      "{'G': '0', 'A': '1', 'T': '2', 'C': '3'}\n",
      "DNA: GCGGGGGTCGTTGCTAAAGGGGTTGAG\n",
      "PROTEIN: AGVVAKGVE\n",
      "============================================================\n",
      "{'G': '0', 'A': '1', 'C': '2', 'T': '3'}\n",
      "DNA: GTGGGGGCTGCCGTCAAAGGGGCCGAG\n",
      "PROTEIN: VGAAVKGAE\n",
      "============================================================\n",
      "{'G': '0', 'T': '1', 'A': '2', 'C': '3'}\n",
      "DNA: GCGGGGGACGAAGCATTTGGGGAAGTG\n",
      "PROTEIN: AGDEAFGEV\n",
      "============================================================\n",
      "{'G': '0', 'T': '1', 'C': '2', 'A': '3'}\n",
      "DNA: GAGGGGGCAGCCGACTTTGGGGCCGTG\n",
      "PROTEIN: EGAADFGAV\n",
      "============================================================\n",
      "{'G': '0', 'C': '1', 'A': '2', 'T': '3'}\n",
      "DNA: GTGGGGGATGAAGTACCCGGGGAAGCG\n",
      "PROTEIN: VGDEVPGEA\n",
      "============================================================\n",
      "{'G': '0', 'C': '1', 'T': '2', 'A': '3'}\n",
      "DNA: GAGGGGGTAGTTGATCCCGGGGTTGCG\n",
      "PROTEIN: EGVVDPGVA\n",
      "============================================================\n",
      "{'C': '0', 'A': '1', 'T': '2', 'G': '3'}\n",
      "DNA: CGCCCCCTGCTTCGTAAACCCCTTCAC\n",
      "PROTEIN: RPLLRKPLH\n",
      "============================================================\n",
      "{'C': '0', 'A': '1', 'G': '2', 'T': '3'}\n",
      "DNA: CTCCCCCGTCGGCTGAAACCCCGGCAC\n",
      "PROTEIN: LPRRLKPRH\n",
      "============================================================\n",
      "{'C': '0', 'T': '1', 'A': '2', 'G': '3'}\n",
      "DNA: CGCCCCCAGCAACGATTTCCCCAACTC\n",
      "PROTEIN: RPQQRFPQL\n",
      "============================================================\n",
      "{'C': '0', 'T': '1', 'G': '2', 'A': '3'}\n",
      "DNA: CACCCCCGACGGCAGTTTCCCCGGCTC\n",
      "PROTEIN: HPRRQFPRL\n",
      "============================================================\n",
      "{'C': '0', 'G': '1', 'A': '2', 'T': '3'}\n",
      "DNA: CTCCCCCATCAACTAGGGCCCCAACGC\n",
      "PROTEIN: LPHQLGPQR\n",
      "============================================================\n",
      "{'C': '0', 'G': '1', 'T': '2', 'A': '3'}\n",
      "DNA: CACCCCCTACTTCATGGGCCCCTTCGC\n",
      "PROTEIN: HPLLHGPLR\n",
      "============================================================\n"
     ]
    }
   ],
   "source": [
    "sequences = []\n",
    "protein_sequences = []\n",
    "convertation = []\n",
    "\n",
    "word = 'MALKOVAKE'\n",
    "\n",
    "for nucl in list(permutations(['A', 'T', 'G', 'C'])):\n",
    "    wordfinder = WordToBiocode(lang='eng', nucl=nucl)\n",
    "\n",
    "    seq_word = wordfinder.encode(word, type_seq='DNA')\n",
    "    protein_word = wordfinder.encode(word, type_seq='PROTEIN')\n",
    "\n",
    "    sequences.append(seq_word)\n",
    "    protein_sequences.append(protein_word)\n",
    "    convertation.append(''.join(nucl))\n",
    "\n",
    "    print(wordfinder.nucl_to_fourth)\n",
    "    print(f'DNA: {seq_word}\\nPROTEIN: {protein_word}')\n",
    "    print('='*60)"
   ]
  },
  {
   "cell_type": "code",
   "execution_count": 4,
   "metadata": {},
   "outputs": [
    {
     "data": {
      "text/html": [
       "<div>\n",
       "<style scoped>\n",
       "    .dataframe tbody tr th:only-of-type {\n",
       "        vertical-align: middle;\n",
       "    }\n",
       "\n",
       "    .dataframe tbody tr th {\n",
       "        vertical-align: top;\n",
       "    }\n",
       "\n",
       "    .dataframe thead th {\n",
       "        text-align: right;\n",
       "    }\n",
       "</style>\n",
       "<table border=\"1\" class=\"dataframe\">\n",
       "  <thead>\n",
       "    <tr style=\"text-align: right;\">\n",
       "      <th></th>\n",
       "      <th>encoding</th>\n",
       "      <th>DNA_seq</th>\n",
       "      <th>PROTEIN_seq</th>\n",
       "    </tr>\n",
       "  </thead>\n",
       "  <tbody>\n",
       "    <tr>\n",
       "      <th>10</th>\n",
       "      <td>TCAG</td>\n",
       "      <td>TGTTTTTAGTAATGACCCTTTTAATCT</td>\n",
       "      <td>CF***PF*S</td>\n",
       "    </tr>\n",
       "    <tr>\n",
       "      <th>0</th>\n",
       "      <td>ATGC</td>\n",
       "      <td>ACAAAAAGCAGGACGTTTAAAAGGATA</td>\n",
       "      <td>TKSRTFKRI</td>\n",
       "    </tr>\n",
       "    <tr>\n",
       "      <th>21</th>\n",
       "      <td>CTGA</td>\n",
       "      <td>CACCCCCGACGGCAGTTTCCCCGGCTC</td>\n",
       "      <td>HPRRQFPRL</td>\n",
       "    </tr>\n",
       "    <tr>\n",
       "      <th>11</th>\n",
       "      <td>TCGA</td>\n",
       "      <td>TATTTTTGATGGTAGCCCTTTTGGTCT</td>\n",
       "      <td>YF*W*PFWS</td>\n",
       "    </tr>\n",
       "    <tr>\n",
       "      <th>5</th>\n",
       "      <td>ACGT</td>\n",
       "      <td>ATAAAAAGTAGGATGCCCAAAAGGACA</td>\n",
       "      <td>IKSRMPKRT</td>\n",
       "    </tr>\n",
       "  </tbody>\n",
       "</table>\n",
       "</div>"
      ],
      "text/plain": [
       "   encoding                      DNA_seq PROTEIN_seq\n",
       "10     TCAG  TGTTTTTAGTAATGACCCTTTTAATCT   CF***PF*S\n",
       "0      ATGC  ACAAAAAGCAGGACGTTTAAAAGGATA   TKSRTFKRI\n",
       "21     CTGA  CACCCCCGACGGCAGTTTCCCCGGCTC   HPRRQFPRL\n",
       "11     TCGA  TATTTTTGATGGTAGCCCTTTTGGTCT   YF*W*PFWS\n",
       "5      ACGT  ATAAAAAGTAGGATGCCCAAAAGGACA   IKSRMPKRT"
      ]
     },
     "execution_count": 4,
     "metadata": {},
     "output_type": "execute_result"
    }
   ],
   "source": [
    "data = pd.DataFrame({\"encoding\": convertation, \n",
    "              \"DNA_seq\": sequences, \n",
    "              \"PROTEIN_seq\": protein_sequences})\n",
    "\n",
    "data.sample(5, random_state=17)"
   ]
  },
  {
   "cell_type": "markdown",
   "metadata": {},
   "source": [
    "## Переводим ген в слова\n",
    "- В нашем алфавите нет пунктуации и пробелов\n",
    "- Можно добавить их в наш словарь. Было бы логично сделать стоп-кодоны точкой, а самый часто-встречающийся кодон - пробелом.\n",
    "- Можно обучить модель (н-р RNN) на парах (без пунктуации, с пунктуацией), чтобы она предсказывала, где вставить пробелы, запятые, точки и другие символы. Но смысла нет, так как декодирование генов в приницпе бессмысленно)"
   ]
  },
  {
   "cell_type": "code",
   "execution_count": 5,
   "metadata": {},
   "outputs": [],
   "source": [
    "word = 'hi'\n",
    "seq_to_word = WordToBiocode(lang='eng')\n",
    "\n",
    "assert word.lower() == seq_to_word.decode(seq_to_word.encode(word))"
   ]
  },
  {
   "cell_type": "code",
   "execution_count": 6,
   "metadata": {},
   "outputs": [
    {
     "data": {
      "text/plain": [
       "'ATCAGA'"
      ]
     },
     "execution_count": 6,
     "metadata": {},
     "output_type": "execute_result"
    }
   ],
   "source": [
    "seq_to_word.encode(word)"
   ]
  },
  {
   "cell_type": "markdown",
   "metadata": {},
   "source": [
    "### Читаем .fasta и декодируем различные гены"
   ]
  },
  {
   "cell_type": "code",
   "execution_count": 7,
   "metadata": {},
   "outputs": [],
   "source": [
    "def read_fasta(path_to_fasta: str):\n",
    "    sequence = []\n",
    "    for record in SeqIO.parse(path_to_fasta, \"fasta\"):\n",
    "        sequence.append(str(record.seq))\n",
    "    sequence = ''.join(sequence)\n",
    "    return sequence"
   ]
  },
  {
   "cell_type": "markdown",
   "metadata": {},
   "source": [
    "#### APOE"
   ]
  },
  {
   "cell_type": "code",
   "execution_count": 8,
   "metadata": {},
   "outputs": [
    {
     "data": {
      "text/plain": [
       "'llcjksaksltwikplipscllknnhfrnzzhenmsinuaybsebmunkwigykbnngkfypfxreiasgazfkwegwqkkjwfjxxibkfkrhppivhe'"
      ]
     },
     "execution_count": 8,
     "metadata": {},
     "output_type": "execute_result"
    }
   ],
   "source": [
    "apoe_seq = read_fasta('genes/APOE.fasta')\n",
    "apoe_word = seq_to_word.decode(apoe_seq)\n",
    "apoe_word[:100]"
   ]
  },
  {
   "cell_type": "markdown",
   "metadata": {},
   "source": [
    "#### HBB"
   ]
  },
  {
   "cell_type": "code",
   "execution_count": 9,
   "metadata": {},
   "outputs": [
    {
     "data": {
      "text/plain": [
       "'mvmnxnldamhykijuzkyogcwkrtcmukienmcnvenwrvpktpkxvvngdcccavjdcpvmjzcdxkjyzvvujzkcejdkvigdigfcvjxvrwxe'"
      ]
     },
     "execution_count": 9,
     "metadata": {},
     "output_type": "execute_result"
    }
   ],
   "source": [
    "hbb_seq = read_fasta('genes/HBB.fasta')\n",
    "hbb_word = seq_to_word.decode(hbb_seq)\n",
    "hbb_word[:100]"
   ]
  },
  {
   "cell_type": "markdown",
   "metadata": {},
   "source": [
    "#### BRCA1"
   ]
  },
  {
   "cell_type": "code",
   "execution_count": 10,
   "metadata": {},
   "outputs": [
    {
     "data": {
      "text/plain": [
       "'nokxdkkadicafrxwcctagugiasjjykdjpmrvbvydxpiicjrigeqatcaudwwclryavxlwmjgmefwakaendhqcgcvampaxtidahkad'"
      ]
     },
     "execution_count": 10,
     "metadata": {},
     "output_type": "execute_result"
    }
   ],
   "source": [
    "brca_word = seq_to_word.decode(read_fasta('genes/BRCA1.fasta'))\n",
    "brca_word[:100]"
   ]
  },
  {
   "cell_type": "markdown",
   "metadata": {},
   "source": [
    "#### TP53"
   ]
  },
  {
   "cell_type": "code",
   "execution_count": 11,
   "metadata": {},
   "outputs": [
    {
     "data": {
      "text/plain": [
       "'ajkvxvyisdfxignnyalbyvrymgyikiylbiplltpplhxzxdvxlzwwnzyxpmzyisrjkavzvyavmszyyytqxniqnoyzwiiikkqlnapn'"
      ]
     },
     "execution_count": 11,
     "metadata": {},
     "output_type": "execute_result"
    }
   ],
   "source": [
    "tp53_word = seq_to_word.decode(read_fasta('genes/TP53.fasta'))\n",
    "tp53_word[:100]"
   ]
  },
  {
   "cell_type": "markdown",
   "metadata": {},
   "source": [
    "#### FTO"
   ]
  },
  {
   "cell_type": "code",
   "execution_count": 12,
   "metadata": {},
   "outputs": [
    {
     "data": {
      "text/plain": [
       "'lzpfqhhvnkbliinmkkhtvjlgcpnczilcpkvgakkwkeugufwwabcpxxqfzztfiyytvegyiybhzlzwwydjwzueyhvdtftyzjgyqqiv'"
      ]
     },
     "execution_count": 12,
     "metadata": {},
     "output_type": "execute_result"
    }
   ],
   "source": [
    "fto_word = seq_to_word.decode(read_fasta('genes/FTO.fasta'))\n",
    "fto_word[:100]"
   ]
  },
  {
   "cell_type": "markdown",
   "metadata": {},
   "source": [
    "плохая шутка - даже ген напоминает о больном:"
   ]
  },
  {
   "cell_type": "code",
   "execution_count": 13,
   "metadata": {},
   "outputs": [
    {
     "data": {
      "text/plain": [
       "True"
      ]
     },
     "execution_count": 13,
     "metadata": {},
     "output_type": "execute_result"
    }
   ],
   "source": [
    "'fat' in fto_word"
   ]
  },
  {
   "cell_type": "markdown",
   "metadata": {},
   "source": [
    "### Поиск слов в декодированном гене"
   ]
  },
  {
   "cell_type": "code",
   "execution_count": 14,
   "metadata": {},
   "outputs": [],
   "source": [
    "import re\n",
    "import nltk\n",
    "from nltk.corpus import words\n",
    "\n",
    "# nltk.download('words')\n",
    "\n",
    "def find_words(sequence, word_list, min_length=1, max_length=float('inf'), ignore_punctuation=True):\n",
    "    found_words = []\n",
    "    \n",
    "    # пунктуации сейчас все равно нет, но мало ли добавлю\n",
    "    if ignore_punctuation:\n",
    "        sequence = re.sub(r'[^\\w\\s]', '', sequence)\n",
    "\n",
    "    for word in word_list:\n",
    "        if min_length <= len(word) <= max_length:\n",
    "            if re.search(word, sequence):\n",
    "                found_words.append(word)\n",
    "\n",
    "    return found_words"
   ]
  },
  {
   "cell_type": "code",
   "execution_count": 15,
   "metadata": {},
   "outputs": [
    {
     "name": "stdout",
     "output_type": "stream",
     "text": [
      "235892\n"
     ]
    }
   ],
   "source": [
    "word_list = set(words.words())\n",
    "print(len(word_list))"
   ]
  },
  {
   "cell_type": "code",
   "execution_count": 16,
   "metadata": {},
   "outputs": [
    {
     "name": "stdout",
     "output_type": "stream",
     "text": [
      "CPU times: user 3.48 s, sys: 429 μs, total: 3.48 s\n",
      "Wall time: 3.81 s\n"
     ]
    },
    {
     "data": {
      "text/plain": [
       "['kil',\n",
       " 'lin',\n",
       " 'hei',\n",
       " 'fig',\n",
       " 'mun',\n",
       " 'six',\n",
       " 'kip',\n",
       " 'hen',\n",
       " 'yoi',\n",
       " 'wig',\n",
       " 'wun',\n",
       " 'vau',\n",
       " 'inn',\n",
       " 'sin',\n",
       " 'lip',\n",
       " 'gaz',\n",
       " 'pub',\n",
       " 'tab',\n",
       " 'linn',\n",
       " 'poky']"
      ]
     },
     "execution_count": 16,
     "metadata": {},
     "output_type": "execute_result"
    }
   ],
   "source": [
    "%%time\n",
    "apoe_found = find_words(apoe_word, word_list, min_length=3)\n",
    "apoe_found[:20]"
   ]
  },
  {
   "cell_type": "code",
   "execution_count": 17,
   "metadata": {},
   "outputs": [
    {
     "name": "stdout",
     "output_type": "stream",
     "text": [
      "CPU times: user 3.56 s, sys: 458 μs, total: 3.56 s\n",
      "Wall time: 3.9 s\n"
     ]
    },
    {
     "data": {
      "text/plain": [
       "['pua',\n",
       " 'yis',\n",
       " 'kat',\n",
       " 'yalb',\n",
       " 'beg',\n",
       " 'urf',\n",
       " 'noy',\n",
       " 'ani',\n",
       " 'thy',\n",
       " 'nap',\n",
       " 'alb',\n",
       " 'aka']"
      ]
     },
     "execution_count": 17,
     "metadata": {},
     "output_type": "execute_result"
    }
   ],
   "source": [
    "%%time\n",
    "tp53_found = find_words(tp53_word, word_list, min_length=3)\n",
    "tp53_found[:20]"
   ]
  },
  {
   "cell_type": "code",
   "execution_count": 18,
   "metadata": {},
   "outputs": [
    {
     "name": "stdout",
     "output_type": "stream",
     "text": [
      "CPU times: user 3.58 s, sys: 2.59 ms, total: 3.58 s\n",
      "Wall time: 3.87 s\n"
     ]
    },
    {
     "data": {
      "text/plain": [
       "['dam', 'ary', 'dak', 'wem', 'dig', 'nix', 'arx', 'baa', 'ewe', 'aka']"
      ]
     },
     "execution_count": 18,
     "metadata": {},
     "output_type": "execute_result"
    }
   ],
   "source": [
    "%%time\n",
    "hbb_found = find_words(hbb_word, word_list, min_length=3)\n",
    "hbb_found[:20]"
   ]
  },
  {
   "cell_type": "code",
   "execution_count": 19,
   "metadata": {},
   "outputs": [
    {
     "name": "stdout",
     "output_type": "stream",
     "text": [
      "98\n",
      "CPU times: user 3.54 s, sys: 1.43 ms, total: 3.54 s\n",
      "Wall time: 3.82 s\n"
     ]
    }
   ],
   "source": [
    "%%time\n",
    "brca_found = find_words(brca_word, word_list, min_length=3)\n",
    "print(len(brca_found))"
   ]
  },
  {
   "cell_type": "code",
   "execution_count": 20,
   "metadata": {},
   "outputs": [
    {
     "data": {
      "text/plain": [
       "['pali',\n",
       " 'bead',\n",
       " 'vamp',\n",
       " 'gleg',\n",
       " 'wice',\n",
       " 'lied',\n",
       " 'puka',\n",
       " 'waka',\n",
       " 'clue',\n",
       " 'masa',\n",
       " 'cusk',\n",
       " 'lue',\n",
       " 'ade',\n",
       " 'shy',\n",
       " 'pig',\n",
       " 'wap',\n",
       " 'naa',\n",
       " 'bal',\n",
       " 'elt',\n",
       " 'edh']"
      ]
     },
     "execution_count": 20,
     "metadata": {},
     "output_type": "execute_result"
    }
   ],
   "source": [
    "sorted(brca_found, key=len, reverse=True)[:20]"
   ]
  },
  {
   "cell_type": "code",
   "execution_count": 21,
   "metadata": {},
   "outputs": [
    {
     "name": "stdout",
     "output_type": "stream",
     "text": [
      "1476\n",
      "CPU times: user 12.5 s, sys: 1.97 ms, total: 12.5 s\n",
      "Wall time: 11.1 s\n"
     ]
    }
   ],
   "source": [
    "%%time\n",
    "fto_found = find_words(fto_word, word_list, min_length=3)\n",
    "print(len(fto_found))"
   ]
  },
  {
   "cell_type": "markdown",
   "metadata": {},
   "source": [
    "FTO просто мем:"
   ]
  },
  {
   "cell_type": "code",
   "execution_count": 22,
   "metadata": {},
   "outputs": [
    {
     "data": {
      "text/plain": [
       "['urushi',\n",
       " 'laical',\n",
       " 'revere',\n",
       " 'navel',\n",
       " 'gaily',\n",
       " 'arear',\n",
       " 'rever',\n",
       " 'acara',\n",
       " 'stiff',\n",
       " 'diver',\n",
       " 'crash',\n",
       " 'fusee',\n",
       " 'vagas',\n",
       " 'guaba',\n",
       " 'abear',\n",
       " 'remex',\n",
       " 'dwalm',\n",
       " 'pasty',\n",
       " 'frier',\n",
       " 'idiot']"
      ]
     },
     "execution_count": 22,
     "metadata": {},
     "output_type": "execute_result"
    }
   ],
   "source": [
    "sorted(fto_found, key=len, reverse=True)[:20]"
   ]
  },
  {
   "cell_type": "markdown",
   "metadata": {},
   "source": [
    "## Укладываем белок\n",
    "- Средняя длина белка - 500-600 а.к.\n",
    "- Нужно сгенерировать текст длиной 500-600 символов без пунктуации. Я просто возьму отрывок из Алисы в стране чудес\n",
    "- Дальше переведем текст в белок и попытаемся его уложить альфа-фолдом"
   ]
  },
  {
   "cell_type": "code",
   "execution_count": 23,
   "metadata": {},
   "outputs": [],
   "source": [
    "import string"
   ]
  },
  {
   "cell_type": "code",
   "execution_count": 35,
   "metadata": {},
   "outputs": [],
   "source": [
    "text = 'Волшебный мир, который открывается перед Алисой, наполнен странными существами и невероятными приключениями. Она встречает Чеширского кота, который исчезает, оставляя лишь улыбку, и слышит его мудрые слова о том, что, если идти в любом направлении, всегда можно оказаться где-то. Каждое новое столкновение с героями этого мира — будь то Безумный Шляпник или Соня — бросает вызов ее восприятию реальности и логики, заставляя задуматься о том, что значит быть собой в таком странном месте, где правила меняются по щелчку пальцев и где каждый день может превратиться в захватывающее приключение или же в полное абсурда событие. Алиса осознает, что в этом удивительном месте нет четких границ между сном и реальностью, и только она сама может решить, что действительно имеет значение для нее. В этот волшебный мир она попадает, чтобы учиться, расти и открывать для себя что-то новое, даже если это что-то вызывает смятение и удивление. В то время как сама Алиса продолжает исследовать этот бесконечно загадочный мир, читатели не могут не задуматься о том, как много чудесного и необычного вокруг них, если только они откроют свои сердца и умы, чтобы воспринять это с воодушевлением.'\n",
    "\n",
    "punctuation = string.punctuation + '-' + '—'\n",
    "regex_pattern = f\"[{re.escape(punctuation)}]\"\n",
    "cleaned_text = re.sub(regex_pattern, '', text.replace(' ', ''))"
   ]
  },
  {
   "cell_type": "code",
   "execution_count": 36,
   "metadata": {},
   "outputs": [
    {
     "name": "stdout",
     "output_type": "stream",
     "text": [
      "966\n"
     ]
    },
    {
     "data": {
      "text/plain": [
       "'ВолшебныймиркоторыйоткрываетсяпередАлисойнаполненстраннымисуществамииневероятнымиприключениямиОнавст'"
      ]
     },
     "execution_count": 36,
     "metadata": {},
     "output_type": "execute_result"
    }
   ],
   "source": [
    "print(len(cleaned_text))\n",
    "cleaned_text[:100]"
   ]
  },
  {
   "cell_type": "code",
   "execution_count": 43,
   "metadata": {},
   "outputs": [
    {
     "name": "stdout",
     "output_type": "stream",
     "text": [
      "874\n"
     ]
    },
    {
     "data": {
      "text/plain": [
       "'KTTCINTSRTSYSTYTYSRTYSYSKKIYEIYIIKTSTRTKTTTITYYKTTSTSLWIYKKTSSTIKIYTEYTSTSYSSTSITSETSTTKKYYIKIYICSYSTNTSTYKSTYTYSRSIRKIYTYKKTEETSCSLTSNSLSTSCSYINTTLIYSITTKKTYTTYTITSSIYSKTSNTTTKYKKTITSSKINIKTTITTTSKRKYSENIIYTSKIITITTKTIYTTSTTKITSINIYTETSSYTNTTSYKNLISYTNIRLTTSRCTETSSSTSTTENYTKIYKSRTKIIKTYSEYSSYIKTSTTYSSTTNSSSRKYKKTEERKILTKYSETYTTYTRTKSYNSYSTNTRKYKSTTYYKTTTTTIYINIIYKKSTKTITESYETWITSLKTSFIKSNIISKIISRIITSTTIIYYIKYKYSYSEKRKLKKYSKKSWIIYSSTSITSISTSIIKTTTTIKNLYIKTNSYSIKTSKTTRTKIYYTKSYTTLISKSYITSTTTTIYITIYIYSSLNYKTSFTIIILTTTSYIKTSTTYSSSYTTSSTTTKKTKTTIIYYICSYSYTIIRYKSYITSTTSTIIYRTKITSIITETIIKSYTYKTTCINTSRTSYTTKTKIKIYYTNSLSYSEYKYSSTYSYSKKYSITEINEYTYTTTKTIIKIIITSSYTYTYTKSRSKKIYTEYITSISLISKTITSIKYTKYITESKSKTKKTSKYTITTIKIYSTIITKKYSSYTYNISTTITTRKNKITTSRTSYSYKYITSTITTNLYTIRKILTKYSETYTTSKSTTTNTLIITTNTSTITNSTTNTKTSYLNTSLITSYTTSSTTTSTYSYTSYKTSIYIFKSLTSYTNSKTYSTEYSSYTKTTILCIKTITSIT'"
      ]
     },
     "execution_count": 43,
     "metadata": {},
     "output_type": "execute_result"
    }
   ],
   "source": [
    "text2seq = WordToBiocode(lang='rus')\n",
    "\n",
    "protein_text = text2seq.encode(cleaned_text, type_seq='PROTEIN').replace('*', '')\n",
    "print(len(protein_text))\n",
    "protein_text"
   ]
  },
  {
   "cell_type": "markdown",
   "metadata": {},
   "source": [
    "Эту последовательность я отправляю в [AlphaFold](https://colab.research.google.com/github/deepmind/alphafold/blob/main/notebooks/AlphaFold.ipynb)"
   ]
  },
  {
   "cell_type": "code",
   "execution_count": null,
   "metadata": {},
   "outputs": [],
   "source": []
  }
 ],
 "metadata": {
  "kernelspec": {
   "display_name": "practical_bf",
   "language": "python",
   "name": "python3"
  },
  "language_info": {
   "codemirror_mode": {
    "name": "ipython",
    "version": 3
   },
   "file_extension": ".py",
   "mimetype": "text/x-python",
   "name": "python",
   "nbconvert_exporter": "python",
   "pygments_lexer": "ipython3",
   "version": "3.12.4"
  }
 },
 "nbformat": 4,
 "nbformat_minor": 2
}
