{
 "cells": [
  {
   "cell_type": "code",
   "execution_count": 27,
   "metadata": {},
   "outputs": [
    {
     "name": "stdout",
     "output_type": "stream",
     "text": [
      "The autoreload extension is already loaded. To reload it, use:\n",
      "  %reload_ext autoreload\n"
     ]
    }
   ],
   "source": [
    "# Ячейка для мгновенного обновления модулей\n",
    "%load_ext autoreload\n",
    "%autoreload 2"
   ]
  },
  {
   "cell_type": "code",
   "execution_count": 81,
   "metadata": {},
   "outputs": [],
   "source": [
    "# libraries\n",
    "import random\n",
    "import pandas as pd\n",
    "from itertools import permutations\n",
    "\n",
    "from Bio import SeqIO\n",
    "\n",
    "from word_to_biocode import WordToBiocode\n",
    "\n",
    "import warnings \n",
    "warnings.simplefilter('ignore')"
   ]
  },
  {
   "cell_type": "markdown",
   "metadata": {},
   "source": [
    "## Задача 🧬\n",
    "Перевести слово (например, ФИО) в последовательность нуклеотидов (A, T, G, C)"
   ]
  },
  {
   "cell_type": "markdown",
   "metadata": {},
   "source": [
    "## Решение\n",
    "\n",
    "1. **Преобразование в двоичную систему**\n",
    "    - В русском алфавите 33 буквы. Для их кодирования требуется **6 бит** (так как $2^6=64$, что достаточно для представления всех букв алфавита).\n",
    "    - Каждую букву слова преобразуем в двоичный код длиной 6 цифр.\n",
    "\n",
    "2. **Преобразование в четверичную систему**\n",
    "    - Далее, этот двоичный код переводим в четверичную систему, где каждая цифра может быть 0, 1, 2 или 3.\n",
    "    - Для этого каждые 2 бита двоичного кода превращаем в одну цифру четверичной системы.\n",
    "    - Таким образом, *каждая буква будет представлена тремя цифрами четверичной системы*.\n",
    "\n",
    "3. **Преобразование в нуклеотидную последовательность**\n",
    "    - Каждая цифра четверичной системы (0, 1, 2, 3) кодируется нуклеотидом (например, 0 — A, 1 — C, 2 — G, 3 — T)\n",
    "    - Таким образом, каждая буква слова будет закодирована в виде последовательности из 3 нуклеотидов (триплета).\n",
    "    - **Длина закодированного слова** в нуклеотидах будет равна $3 \\times \\text{длина слова}$.\n",
    "\n",
    "4. **Преобразование в аминокислотную последовательность**\n",
    "    - Поскольку длина закодированной последовательности кратна трем, ее можно перевести в последовательность аминокислот (белок)\n"
   ]
  },
  {
   "cell_type": "markdown",
   "metadata": {},
   "source": [
    "## Вероятность встретить закодированное слово в геноме\n",
    "\n",
    "### Частота появления конкретной последовательности\n",
    "Для случайного распределения нуклеотидов вероятность встретить определенную последовательность длиной $l$:\n",
    "$$\\frac{1}{4^l} = 4^{-l},$$ \n",
    "\n",
    "так как у каждого нуклеотида есть 4 возможных варианта (A, C, G, T)\n",
    "\n",
    "Геном человека состоит из примерно $3.2 \\cdot 10^9$ нуклеотидов. Т.е. возможных позиций для начала последовательности длиной $l$:\n",
    "$3.2 \\cdot 10^9 - l + 1 \\approx 3.2 \\cdot 10^9 \\text{ н.}$\n",
    "\n",
    "Чтобы вычислить, как часто можно встретить нашу закодированную последовательность длиной $l$ в геноме, умножаем количество возможных позиций на вероятность вообще получить такую последовательность. Тогда последовательность длиной $l$ будет встречаться в человеческом геноме со следующей частотой:\n",
    "$$\\frac{3.2 \\cdot 10^9}{4^l} \\text{ н.}$$\n",
    "\n",
    "### Вероятность встретить последовательность хотя бы 1 раз\n",
    "Вероятность встретить хотя бы одно вхождение последовательности в геноме можно выразить так: \n",
    "$$P = 1 - (1 - \\frac{1}{4^l})^{3.2 \\cdot 10^9}$$"
   ]
  },
  {
   "cell_type": "markdown",
   "metadata": {},
   "source": [
    "## Реализация - перевод ФИО в ДНК и белок"
   ]
  },
  {
   "cell_type": "code",
   "execution_count": 30,
   "metadata": {},
   "outputs": [
    {
     "name": "stdout",
     "output_type": "stream",
     "text": [
      "{'A': '0', 'T': '1', 'G': '2', 'C': '3'}\n",
      "DNA: ACAAAAAGCAGGACGTTTAAAAGGATA\n",
      "PROTEIN: TKSRTFKRI\n",
      "============================================================\n",
      "{'A': '0', 'T': '1', 'C': '2', 'G': '3'}\n",
      "DNA: AGAAAAACGACCAGCTTTAAAACCATA\n",
      "PROTEIN: RKTTSFKTI\n",
      "============================================================\n",
      "{'A': '0', 'G': '1', 'T': '2', 'C': '3'}\n",
      "DNA: ACAAAAATCATTACTGGGAAAATTAGA\n",
      "PROTEIN: TKIITGKIR\n",
      "============================================================\n",
      "{'A': '0', 'G': '1', 'C': '2', 'T': '3'}\n",
      "DNA: ATAAAAACTACCATCGGGAAAACCAGA\n",
      "PROTEIN: IKTTIGKTR\n",
      "============================================================\n",
      "{'A': '0', 'C': '1', 'T': '2', 'G': '3'}\n",
      "DNA: AGAAAAATGATTAGTCCCAAAATTACA\n",
      "PROTEIN: RKMISPKIT\n",
      "============================================================\n",
      "{'A': '0', 'C': '1', 'G': '2', 'T': '3'}\n",
      "DNA: ATAAAAAGTAGGATGCCCAAAAGGACA\n",
      "PROTEIN: IKSRMPKRT\n",
      "============================================================\n",
      "{'T': '0', 'A': '1', 'G': '2', 'C': '3'}\n",
      "DNA: TCTTTTTGCTGGTCGAAATTTTGGTAT\n",
      "PROTEIN: SFCWSKFWY\n",
      "============================================================\n",
      "{'T': '0', 'A': '1', 'C': '2', 'G': '3'}\n",
      "DNA: TGTTTTTCGTCCTGCAAATTTTCCTAT\n",
      "PROTEIN: CFSSCKFSY\n",
      "============================================================\n",
      "{'T': '0', 'G': '1', 'A': '2', 'C': '3'}\n",
      "DNA: TCTTTTTACTAATCAGGGTTTTAATGT\n",
      "PROTEIN: SFY*SGF*C\n",
      "============================================================\n",
      "{'T': '0', 'G': '1', 'C': '2', 'A': '3'}\n",
      "DNA: TATTTTTCATCCTACGGGTTTTCCTGT\n",
      "PROTEIN: YFSSYGFSC\n",
      "============================================================\n",
      "{'T': '0', 'C': '1', 'A': '2', 'G': '3'}\n",
      "DNA: TGTTTTTAGTAATGACCCTTTTAATCT\n",
      "PROTEIN: CF***PF*S\n",
      "============================================================\n",
      "{'T': '0', 'C': '1', 'G': '2', 'A': '3'}\n",
      "DNA: TATTTTTGATGGTAGCCCTTTTGGTCT\n",
      "PROTEIN: YF*W*PFWS\n",
      "============================================================\n",
      "{'G': '0', 'A': '1', 'T': '2', 'C': '3'}\n",
      "DNA: GCGGGGGTCGTTGCTAAAGGGGTTGAG\n",
      "PROTEIN: AGVVAKGVE\n",
      "============================================================\n",
      "{'G': '0', 'A': '1', 'C': '2', 'T': '3'}\n",
      "DNA: GTGGGGGCTGCCGTCAAAGGGGCCGAG\n",
      "PROTEIN: VGAAVKGAE\n",
      "============================================================\n",
      "{'G': '0', 'T': '1', 'A': '2', 'C': '3'}\n",
      "DNA: GCGGGGGACGAAGCATTTGGGGAAGTG\n",
      "PROTEIN: AGDEAFGEV\n",
      "============================================================\n",
      "{'G': '0', 'T': '1', 'C': '2', 'A': '3'}\n",
      "DNA: GAGGGGGCAGCCGACTTTGGGGCCGTG\n",
      "PROTEIN: EGAADFGAV\n",
      "============================================================\n",
      "{'G': '0', 'C': '1', 'A': '2', 'T': '3'}\n",
      "DNA: GTGGGGGATGAAGTACCCGGGGAAGCG\n",
      "PROTEIN: VGDEVPGEA\n",
      "============================================================\n",
      "{'G': '0', 'C': '1', 'T': '2', 'A': '3'}\n",
      "DNA: GAGGGGGTAGTTGATCCCGGGGTTGCG\n",
      "PROTEIN: EGVVDPGVA\n",
      "============================================================\n",
      "{'C': '0', 'A': '1', 'T': '2', 'G': '3'}\n",
      "DNA: CGCCCCCTGCTTCGTAAACCCCTTCAC\n",
      "PROTEIN: RPLLRKPLH\n",
      "============================================================\n",
      "{'C': '0', 'A': '1', 'G': '2', 'T': '3'}\n",
      "DNA: CTCCCCCGTCGGCTGAAACCCCGGCAC\n",
      "PROTEIN: LPRRLKPRH\n",
      "============================================================\n",
      "{'C': '0', 'T': '1', 'A': '2', 'G': '3'}\n",
      "DNA: CGCCCCCAGCAACGATTTCCCCAACTC\n",
      "PROTEIN: RPQQRFPQL\n",
      "============================================================\n",
      "{'C': '0', 'T': '1', 'G': '2', 'A': '3'}\n",
      "DNA: CACCCCCGACGGCAGTTTCCCCGGCTC\n",
      "PROTEIN: HPRRQFPRL\n",
      "============================================================\n",
      "{'C': '0', 'G': '1', 'A': '2', 'T': '3'}\n",
      "DNA: CTCCCCCATCAACTAGGGCCCCAACGC\n",
      "PROTEIN: LPHQLGPQR\n",
      "============================================================\n",
      "{'C': '0', 'G': '1', 'T': '2', 'A': '3'}\n",
      "DNA: CACCCCCTACTTCATGGGCCCCTTCGC\n",
      "PROTEIN: HPLLHGPLR\n",
      "============================================================\n"
     ]
    }
   ],
   "source": [
    "sequences = []\n",
    "protein_sequences = []\n",
    "convertation = []\n",
    "\n",
    "word = 'MALKOVAKE'\n",
    "\n",
    "for nucl in list(permutations(['A', 'T', 'G', 'C'])):\n",
    "    wordfinder = WordToBiocode(lang='eng', nucl=nucl)\n",
    "\n",
    "    seq_word = wordfinder.encode(word, type_seq='DNA')\n",
    "    protein_word = wordfinder.encode(word, type_seq='PROTEIN')\n",
    "\n",
    "    sequences.append(seq_word)\n",
    "    protein_sequences.append(protein_word)\n",
    "    convertation.append(''.join(nucl))\n",
    "\n",
    "    print(wordfinder.nucl_to_fourth)\n",
    "    print(f'DNA: {seq_word}\\nPROTEIN: {protein_word}')\n",
    "    print('='*60)"
   ]
  },
  {
   "cell_type": "code",
   "execution_count": 36,
   "metadata": {},
   "outputs": [
    {
     "data": {
      "text/html": [
       "<div>\n",
       "<style scoped>\n",
       "    .dataframe tbody tr th:only-of-type {\n",
       "        vertical-align: middle;\n",
       "    }\n",
       "\n",
       "    .dataframe tbody tr th {\n",
       "        vertical-align: top;\n",
       "    }\n",
       "\n",
       "    .dataframe thead th {\n",
       "        text-align: right;\n",
       "    }\n",
       "</style>\n",
       "<table border=\"1\" class=\"dataframe\">\n",
       "  <thead>\n",
       "    <tr style=\"text-align: right;\">\n",
       "      <th></th>\n",
       "      <th>encoding</th>\n",
       "      <th>DNA_seq</th>\n",
       "      <th>PROTEIN_seq</th>\n",
       "    </tr>\n",
       "  </thead>\n",
       "  <tbody>\n",
       "    <tr>\n",
       "      <th>10</th>\n",
       "      <td>TCAG</td>\n",
       "      <td>TGTTTTTAGTAATGACCCTTTTAATCT</td>\n",
       "      <td>CF***PF*S</td>\n",
       "    </tr>\n",
       "    <tr>\n",
       "      <th>0</th>\n",
       "      <td>ATGC</td>\n",
       "      <td>ACAAAAAGCAGGACGTTTAAAAGGATA</td>\n",
       "      <td>TKSRTFKRI</td>\n",
       "    </tr>\n",
       "    <tr>\n",
       "      <th>21</th>\n",
       "      <td>CTGA</td>\n",
       "      <td>CACCCCCGACGGCAGTTTCCCCGGCTC</td>\n",
       "      <td>HPRRQFPRL</td>\n",
       "    </tr>\n",
       "    <tr>\n",
       "      <th>11</th>\n",
       "      <td>TCGA</td>\n",
       "      <td>TATTTTTGATGGTAGCCCTTTTGGTCT</td>\n",
       "      <td>YF*W*PFWS</td>\n",
       "    </tr>\n",
       "    <tr>\n",
       "      <th>5</th>\n",
       "      <td>ACGT</td>\n",
       "      <td>ATAAAAAGTAGGATGCCCAAAAGGACA</td>\n",
       "      <td>IKSRMPKRT</td>\n",
       "    </tr>\n",
       "  </tbody>\n",
       "</table>\n",
       "</div>"
      ],
      "text/plain": [
       "   encoding                      DNA_seq PROTEIN_seq\n",
       "10     TCAG  TGTTTTTAGTAATGACCCTTTTAATCT   CF***PF*S\n",
       "0      ATGC  ACAAAAAGCAGGACGTTTAAAAGGATA   TKSRTFKRI\n",
       "21     CTGA  CACCCCCGACGGCAGTTTCCCCGGCTC   HPRRQFPRL\n",
       "11     TCGA  TATTTTTGATGGTAGCCCTTTTGGTCT   YF*W*PFWS\n",
       "5      ACGT  ATAAAAAGTAGGATGCCCAAAAGGACA   IKSRMPKRT"
      ]
     },
     "execution_count": 36,
     "metadata": {},
     "output_type": "execute_result"
    }
   ],
   "source": [
    "data = pd.DataFrame({\"encoding\": convertation, \n",
    "              \"DNA_seq\": sequences, \n",
    "              \"PROTEIN_seq\": protein_sequences})\n",
    "\n",
    "data.sample(5, random_state=17)"
   ]
  },
  {
   "cell_type": "markdown",
   "metadata": {},
   "source": [
    "## Переводим ген в слова\n",
    "- В нашем алфавите нет пунктуации и пробелов\n",
    "- Можно добавить их в наш словарь. Было бы логично сделать стоп-кодоны точкой, а самый часто-встречающийся кодон - пробелом.\n",
    "- Можно обучить модель (н-р RNN) на парах (без пунктуации, с пунктуацией), чтобы она предсказывала, где вставить пробелы, запятые, точки и другие символы. Но смысла нет, так как декодирование генов в приницпе бессмысленно)"
   ]
  },
  {
   "cell_type": "code",
   "execution_count": 85,
   "metadata": {},
   "outputs": [],
   "source": [
    "word = 'hi'\n",
    "seq_to_word = WordToBiocode(lang='eng')\n",
    "\n",
    "assert word.lower() == seq_to_word.decode(seq_to_word.encode(word))"
   ]
  },
  {
   "cell_type": "code",
   "execution_count": 87,
   "metadata": {},
   "outputs": [
    {
     "data": {
      "text/plain": [
       "'ATCAGA'"
      ]
     },
     "execution_count": 87,
     "metadata": {},
     "output_type": "execute_result"
    }
   ],
   "source": [
    "seq_to_word.encode(word)"
   ]
  },
  {
   "cell_type": "markdown",
   "metadata": {},
   "source": [
    "## Читаем .fasta и декодируем различные гены"
   ]
  },
  {
   "cell_type": "code",
   "execution_count": 88,
   "metadata": {},
   "outputs": [],
   "source": [
    "def read_fasta(path_to_fasta: str):\n",
    "    sequence = []\n",
    "    for record in SeqIO.parse(path_to_fasta, \"fasta\"):\n",
    "        sequence.append(str(record.seq))\n",
    "    sequence = ''.join(sequence)\n",
    "    return sequence"
   ]
  },
  {
   "cell_type": "markdown",
   "metadata": {},
   "source": [
    "### APOE"
   ]
  },
  {
   "cell_type": "code",
   "execution_count": 138,
   "metadata": {},
   "outputs": [
    {
     "data": {
      "text/plain": [
       "'llcjksaksltwikplipscllknnhfrnzzhenmsinuaybsebmunkwigykbnngkfypfxreiasgazfkwegwqkkjwfjxxibkfkrhppivhe'"
      ]
     },
     "execution_count": 138,
     "metadata": {},
     "output_type": "execute_result"
    }
   ],
   "source": [
    "apoe_seq = read_fasta('genes/APOE.fasta')\n",
    "apoe_word = seq_to_word.decode(apoe_seq)\n",
    "apoe_word[:100]"
   ]
  },
  {
   "cell_type": "markdown",
   "metadata": {},
   "source": [
    "### HBB"
   ]
  },
  {
   "cell_type": "code",
   "execution_count": 139,
   "metadata": {},
   "outputs": [
    {
     "data": {
      "text/plain": [
       "'mvmnxnldamhykijuzkyogcwkrtcmukienmcnvenwrvpktpkxvvngdcccavjdcpvmjzcdxkjyzvvujzkcejdkvigdigfcvjxvrwxe'"
      ]
     },
     "execution_count": 139,
     "metadata": {},
     "output_type": "execute_result"
    }
   ],
   "source": [
    "hbb_seq = read_fasta('genes/HBB.fasta')\n",
    "hbb_word = seq_to_word.decode(hbb_seq)\n",
    "hbb_word[:100]"
   ]
  },
  {
   "cell_type": "markdown",
   "metadata": {},
   "source": [
    "### BRCA1"
   ]
  },
  {
   "cell_type": "code",
   "execution_count": 140,
   "metadata": {},
   "outputs": [
    {
     "data": {
      "text/plain": [
       "'nokxdkkadicafrxwcctagugiasjjykdjpmrvbvydxpiicjrigeqatcaudwwclryavxlwmjgmefwakaendhqcgcvampaxtidahkad'"
      ]
     },
     "execution_count": 140,
     "metadata": {},
     "output_type": "execute_result"
    }
   ],
   "source": [
    "brca_word = seq_to_word.decode(read_fasta('genes/BRCA1.fasta'))\n",
    "brca_word[:100]"
   ]
  },
  {
   "cell_type": "markdown",
   "metadata": {},
   "source": [
    "### TP53"
   ]
  },
  {
   "cell_type": "code",
   "execution_count": 141,
   "metadata": {},
   "outputs": [
    {
     "data": {
      "text/plain": [
       "'ajkvxvyisdfxignnyalbyvrymgyikiylbiplltpplhxzxdvxlzwwnzyxpmzyisrjkavzvyavmszyyytqxniqnoyzwiiikkqlnapn'"
      ]
     },
     "execution_count": 141,
     "metadata": {},
     "output_type": "execute_result"
    }
   ],
   "source": [
    "tp53_word = seq_to_word.decode(read_fasta('genes/TP53.fasta'))\n",
    "tp53_word[:100]"
   ]
  },
  {
   "cell_type": "markdown",
   "metadata": {},
   "source": [
    "### FTO"
   ]
  },
  {
   "cell_type": "code",
   "execution_count": 142,
   "metadata": {},
   "outputs": [
    {
     "data": {
      "text/plain": [
       "'lzpfqhhvnkbliinmkkhtvjlgcpnczilcpkvgakkwkeugufwwabcpxxqfzztfiyytvegyiybhzlzwwydjwzueyhvdtftyzjgyqqiv'"
      ]
     },
     "execution_count": 142,
     "metadata": {},
     "output_type": "execute_result"
    }
   ],
   "source": [
    "fto_word = seq_to_word.decode(read_fasta('genes/FTO.fasta'))\n",
    "fto_word[:100]"
   ]
  },
  {
   "cell_type": "markdown",
   "metadata": {},
   "source": [
    "плохая шутка - даже ген напоминает о больном:"
   ]
  },
  {
   "cell_type": "code",
   "execution_count": 143,
   "metadata": {},
   "outputs": [
    {
     "data": {
      "text/plain": [
       "True"
      ]
     },
     "execution_count": 143,
     "metadata": {},
     "output_type": "execute_result"
    }
   ],
   "source": [
    "'fat' in fto_word"
   ]
  },
  {
   "cell_type": "markdown",
   "metadata": {},
   "source": [
    "## Поиск слов в декодированном гене\n",
    "\n",
    "- `nltk.corpus.words` \n",
    "- **Алгоритм Кнута-Морриса-Пратта** (KMP) или **Алгоритм Бойера-Мура** (Boyer-Moore) можно использовать для поиска конкретных слов в длинных строках. Эти алгоритмы оптимизированы для быстрого поиска подстрок и могут быть полезны при поиске слов в случайной последовательности.\n"
   ]
  },
  {
   "cell_type": "code",
   "execution_count": 144,
   "metadata": {},
   "outputs": [],
   "source": [
    "import re\n",
    "import nltk\n",
    "from nltk.corpus import words\n",
    "\n",
    "# nltk.download('words')\n",
    "\n",
    "def find_words(sequence, word_list, min_length=1, max_length=float('inf'), ignore_punctuation=True):\n",
    "    found_words = []\n",
    "    \n",
    "    # пунктуации сейчас все равно нет, но мало ли добавлю\n",
    "    if ignore_punctuation:\n",
    "        sequence = re.sub(r'[^\\w\\s]', '', sequence)\n",
    "\n",
    "    for word in word_list:\n",
    "        if min_length <= len(word) <= max_length:\n",
    "            if re.search(word, sequence):\n",
    "                found_words.append(word)\n",
    "\n",
    "    return found_words"
   ]
  },
  {
   "cell_type": "code",
   "execution_count": 145,
   "metadata": {},
   "outputs": [
    {
     "name": "stdout",
     "output_type": "stream",
     "text": [
      "235892\n"
     ]
    }
   ],
   "source": [
    "word_list = set(words.words())\n",
    "print(len(word_list))"
   ]
  },
  {
   "cell_type": "code",
   "execution_count": 151,
   "metadata": {},
   "outputs": [
    {
     "name": "stdout",
     "output_type": "stream",
     "text": [
      "CPU times: user 3.74 s, sys: 0 ns, total: 3.74 s\n",
      "Wall time: 4.15 s\n"
     ]
    },
    {
     "data": {
      "text/plain": [
       "['pub',\n",
       " 'wun',\n",
       " 'lip',\n",
       " 'fig',\n",
       " 'six',\n",
       " 'wig',\n",
       " 'lin',\n",
       " 'poky',\n",
       " 'kil',\n",
       " 'yoi',\n",
       " 'hen',\n",
       " 'sin',\n",
       " 'kip',\n",
       " 'tab',\n",
       " 'lit',\n",
       " 'mun',\n",
       " 'vau',\n",
       " 'inn',\n",
       " 'gaz',\n",
       " 'linn']"
      ]
     },
     "execution_count": 151,
     "metadata": {},
     "output_type": "execute_result"
    }
   ],
   "source": [
    "%%time\n",
    "apoe_found = find_words(apoe_word, word_list, min_length=3)\n",
    "apoe_found[:20]"
   ]
  },
  {
   "cell_type": "code",
   "execution_count": 152,
   "metadata": {},
   "outputs": [
    {
     "name": "stdout",
     "output_type": "stream",
     "text": [
      "CPU times: user 3.63 s, sys: 0 ns, total: 3.63 s\n",
      "Wall time: 3.99 s\n"
     ]
    },
    {
     "data": {
      "text/plain": [
       "['beg',\n",
       " 'yis',\n",
       " 'thy',\n",
       " 'noy',\n",
       " 'kat',\n",
       " 'alb',\n",
       " 'aka',\n",
       " 'yalb',\n",
       " 'ani',\n",
       " 'nap',\n",
       " 'pua',\n",
       " 'urf']"
      ]
     },
     "execution_count": 152,
     "metadata": {},
     "output_type": "execute_result"
    }
   ],
   "source": [
    "%%time\n",
    "tp53_found = find_words(tp53_word, word_list, min_length=3)\n",
    "tp53_found[:20]"
   ]
  },
  {
   "cell_type": "code",
   "execution_count": 153,
   "metadata": {},
   "outputs": [
    {
     "name": "stdout",
     "output_type": "stream",
     "text": [
      "CPU times: user 3.63 s, sys: 0 ns, total: 3.63 s\n",
      "Wall time: 3.99 s\n"
     ]
    },
    {
     "data": {
      "text/plain": [
       "['wem', 'arx', 'nix', 'ewe', 'dam', 'dig', 'baa', 'aka', 'dak', 'ary']"
      ]
     },
     "execution_count": 153,
     "metadata": {},
     "output_type": "execute_result"
    }
   ],
   "source": [
    "%%time\n",
    "hbb_found = find_words(hbb_word, word_list, min_length=3)\n",
    "hbb_found[:20]"
   ]
  },
  {
   "cell_type": "code",
   "execution_count": 154,
   "metadata": {},
   "outputs": [
    {
     "name": "stdout",
     "output_type": "stream",
     "text": [
      "98\n",
      "CPU times: user 3.85 s, sys: 153 μs, total: 3.85 s\n",
      "Wall time: 4.16 s\n"
     ]
    }
   ],
   "source": [
    "%%time\n",
    "brca_found = find_words(brca_word, word_list, min_length=3)\n",
    "print(len(brca_found))"
   ]
  },
  {
   "cell_type": "code",
   "execution_count": 155,
   "metadata": {},
   "outputs": [
    {
     "data": {
      "text/plain": [
       "['pali',\n",
       " 'clue',\n",
       " 'cusk',\n",
       " 'bead',\n",
       " 'lied',\n",
       " 'waka',\n",
       " 'wice',\n",
       " 'puka',\n",
       " 'gleg',\n",
       " 'masa',\n",
       " 'vamp',\n",
       " 'cay',\n",
       " 'met',\n",
       " 'poh',\n",
       " 'dab',\n",
       " 'day',\n",
       " 'gim',\n",
       " 'yan',\n",
       " 'ked',\n",
       " 'pax']"
      ]
     },
     "execution_count": 155,
     "metadata": {},
     "output_type": "execute_result"
    }
   ],
   "source": [
    "sorted(brca_found, key=len, reverse=True)[:20]"
   ]
  },
  {
   "cell_type": "code",
   "execution_count": 156,
   "metadata": {},
   "outputs": [
    {
     "name": "stdout",
     "output_type": "stream",
     "text": [
      "1476\n",
      "CPU times: user 12.8 s, sys: 10.2 ms, total: 12.9 s\n",
      "Wall time: 11.3 s\n"
     ]
    }
   ],
   "source": [
    "%%time\n",
    "fto_found = find_words(fto_word, word_list, min_length=3)\n",
    "print(len(fto_found))"
   ]
  },
  {
   "cell_type": "markdown",
   "metadata": {},
   "source": [
    "FTO просто мем:"
   ]
  },
  {
   "cell_type": "code",
   "execution_count": 157,
   "metadata": {},
   "outputs": [
    {
     "data": {
      "text/plain": [
       "['urushi',\n",
       " 'laical',\n",
       " 'revere',\n",
       " 'refer',\n",
       " 'idiot',\n",
       " 'birsy',\n",
       " 'varve',\n",
       " 'kilah',\n",
       " 'cymba',\n",
       " 'diver',\n",
       " 'blind',\n",
       " 'black',\n",
       " 'stiff',\n",
       " 'rever',\n",
       " 'spewy',\n",
       " 'abura',\n",
       " 'remex',\n",
       " 'mafic',\n",
       " 'fusee',\n",
       " 'abear']"
      ]
     },
     "execution_count": 157,
     "metadata": {},
     "output_type": "execute_result"
    }
   ],
   "source": [
    "sorted(fto_found, key=len, reverse=True)[:20]"
   ]
  },
  {
   "cell_type": "code",
   "execution_count": null,
   "metadata": {},
   "outputs": [],
   "source": []
  }
 ],
 "metadata": {
  "kernelspec": {
   "display_name": "practical_bf",
   "language": "python",
   "name": "python3"
  },
  "language_info": {
   "codemirror_mode": {
    "name": "ipython",
    "version": 3
   },
   "file_extension": ".py",
   "mimetype": "text/x-python",
   "name": "python",
   "nbconvert_exporter": "python",
   "pygments_lexer": "ipython3",
   "version": "3.12.4"
  }
 },
 "nbformat": 4,
 "nbformat_minor": 2
}
