{
 "cells": [
  {
   "cell_type": "code",
   "execution_count": null,
   "metadata": {},
   "outputs": [],
   "source": [
    "# Ячейка для мгновенного обновления модулей\n",
    "%load_ext autoreload\n",
    "%autoreload 2"
   ]
  },
  {
   "cell_type": "code",
   "execution_count": 11,
   "metadata": {},
   "outputs": [],
   "source": [
    "import numpy as np\n",
    "from dataclasses import dataclass\n",
    "\n",
    "from Bio import pairwise2\n",
    "from Bio.pairwise2 import format_alignment\n",
    "\n",
    "import warnings\n",
    "warnings.simplefilter('ignore')"
   ]
  },
  {
   "cell_type": "markdown",
   "metadata": {},
   "source": [
    "# 1. Алгоритм Нидлмана-Вунша"
   ]
  },
  {
   "cell_type": "code",
   "execution_count": 147,
   "metadata": {},
   "outputs": [],
   "source": [
    "@dataclass\n",
    "class NeedlmanWunchAln:\n",
    "    seq1: str\n",
    "    seq2: str\n",
    "    match: float = 1.0\n",
    "    mismatch: float = 0.0\n",
    "    open_gap: float = -2.0\n",
    "    extend_gap: float = -0.5\n",
    "\n",
    "    def __post_init__(self):\n",
    "        self.alphabet = sorted(set(self.seq2) | set(self.seq1))\n",
    "        self.vocab_length = len(self.alphabet)\n",
    "\n",
    "        self.letter_to_idx = dict(enumerate(self.alphabet))\n",
    "        self.idx_to_letter = {v: k for k, v in self.letter_to_idx.items()}\n",
    "\n",
    "        self.matrix = np.zeros((len(self.seq1) + 1, len(self.seq2) + 1))\n",
    "\n",
    "        # [0: from diag, 1: from left, 2: from up]\n",
    "        self.matrix_pass = np.zeros((len(self.seq1) + 1, len(self.seq2) + 1))\n",
    "    \n",
    "    def forward_pass(self):\n",
    "        self.matrix[0, :] = self.open_gap * np.arange(len(self.seq2) + 1)\n",
    "        self.matrix[:, 0] = self.open_gap * np.arange(len(self.seq1) + 1)\n",
    "\n",
    "        for i in range(1, len(self.seq1) + 1):\n",
    "            for j in range(1, len(self.seq2) + 1):\n",
    "                match_score = self.match if self.seq1[i - 1] == self.seq2[j - 1] else self.mismatch\n",
    "                diag = self.matrix[i - 1, j - 1] + match_score\n",
    "\n",
    "                # Обрабатываем гэпы\n",
    "                if self.matrix[i, j - 1] == self.matrix[i, j - 2] + self.extend_gap:\n",
    "                    left = self.matrix[i, j - 1] + self.extend_gap\n",
    "                else:\n",
    "                    left = self.matrix[i, j - 1] + self.open_gap\n",
    "\n",
    "                if self.matrix[i - 1, j] == self.matrix[i - 2, j] + self.extend_gap:\n",
    "                    up = self.matrix[i - 1, j] + self.extend_gap\n",
    "                else:\n",
    "                    up = self.matrix[i - 1, j] + self.open_gap\n",
    "\n",
    "                self.matrix[i, j] = max(diag, left, up)\n",
    "                self.matrix_pass[i, j] = np.argmax([diag, left, up])\n",
    "        \n",
    "    def backward_pass(self):\n",
    "        seq1_aln = ''\n",
    "        seq2_aln = ''\n",
    "\n",
    "        i = len(self.seq1)\n",
    "        j = len(self.seq2)\n",
    "\n",
    "        self.score = self.matrix[-1, -1].item()\n",
    "        \n",
    "        while i > 0 or j > 0:  # continue until one of the sequences is fully processed\n",
    "\n",
    "            # Diagonal (match/mismatch)\n",
    "            if i > 0 and j > 0 and self.matrix_pass[i, j] == 0:\n",
    "                seq1_aln += self.seq1[i - 1]\n",
    "                seq2_aln += self.seq2[j - 1]\n",
    "\n",
    "                i -= 1\n",
    "                j -= 1\n",
    "            \n",
    "            # Left (gap in seq1)\n",
    "            elif j > 0 and (i == 0 or self.matrix_pass[i, j] == 1):\n",
    "                seq1_aln += '-'\n",
    "                seq2_aln += self.seq2[j - 1]\n",
    "                j -= 1\n",
    "            \n",
    "            # Up (gap in seq2)\n",
    "            elif i > 0 and (j == 0 or self.matrix_pass[i, j] == 2):\n",
    "                seq1_aln += self.seq1[i - 1]\n",
    "                seq2_aln += '-'\n",
    "\n",
    "                i -= 1\n",
    "        \n",
    "        return {'seq1': seq1_aln[::-1], \n",
    "                'seq2': seq2_aln[::-1], \n",
    "                'score': self.score}\n",
    "    \n",
    "    def align(self):\n",
    "        self.forward_pass()\n",
    "        res = self.backward_pass()\n",
    "        return res"
   ]
  },
  {
   "cell_type": "code",
   "execution_count": 148,
   "metadata": {},
   "outputs": [],
   "source": [
    "seq1 = \"GTACGATCG\"\n",
    "seq2 = \"GTCGACG\""
   ]
  },
  {
   "cell_type": "code",
   "execution_count": 149,
   "metadata": {},
   "outputs": [
    {
     "data": {
      "text/plain": [
       "9"
      ]
     },
     "execution_count": 149,
     "metadata": {},
     "output_type": "execute_result"
    }
   ],
   "source": [
    "len(seq1)"
   ]
  },
  {
   "cell_type": "code",
   "execution_count": 152,
   "metadata": {},
   "outputs": [
    {
     "name": "stdout",
     "output_type": "stream",
     "text": [
      "CPU times: user 3.12 ms, sys: 0 ns, total: 3.12 ms\n",
      "Wall time: 2.55 ms\n"
     ]
    },
    {
     "data": {
      "text/plain": [
       "{'seq1': 'GTACGATCG', 'seq2': 'GT-CGA-CG', 'score': 10.0}"
      ]
     },
     "execution_count": 152,
     "metadata": {},
     "output_type": "execute_result"
    }
   ],
   "source": [
    "%%time\n",
    "pair_aligner = NeedlmanWunchAln(seq1=seq1, seq2=seq2, match=2, mismatch=-1, open_gap=-2, extend_gap=-0.5)\n",
    "pair_aligner.align()"
   ]
  },
  {
   "cell_type": "code",
   "execution_count": 153,
   "metadata": {},
   "outputs": [
    {
     "name": "stdout",
     "output_type": "stream",
     "text": [
      "CPU times: user 527 μs, sys: 0 ns, total: 527 μs\n",
      "Wall time: 576 μs\n"
     ]
    },
    {
     "data": {
      "text/plain": [
       "Alignment(seqA='GTACGATCG', seqB='GT-CGA-CG', score=10.0, start=0, end=9)"
      ]
     },
     "execution_count": 153,
     "metadata": {},
     "output_type": "execute_result"
    }
   ],
   "source": [
    "%%time\n",
    "alignments = pairwise2.align.globalms(seq1, seq2, \n",
    "                                     match=2, mismatch=-1, \n",
    "                                     open=-2, extend=-0.5)\n",
    "\n",
    "alignments[0]"
   ]
  },
  {
   "cell_type": "code",
   "execution_count": null,
   "metadata": {},
   "outputs": [],
   "source": []
  }
 ],
 "metadata": {
  "kernelspec": {
   "display_name": "practical_bf",
   "language": "python",
   "name": "python3"
  },
  "language_info": {
   "codemirror_mode": {
    "name": "ipython",
    "version": 3
   },
   "file_extension": ".py",
   "mimetype": "text/x-python",
   "name": "python",
   "nbconvert_exporter": "python",
   "pygments_lexer": "ipython3",
   "version": "3.12.4"
  }
 },
 "nbformat": 4,
 "nbformat_minor": 2
}
